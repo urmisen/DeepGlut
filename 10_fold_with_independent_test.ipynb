{
  "nbformat": 4,
  "nbformat_minor": 0,
  "metadata": {
    "accelerator": "GPU",
    "colab": {
      "name": "10_fold_with_independent_test.ipynb",
      "provenance": [],
      "collapsed_sections": []
    },
    "kernelspec": {
      "display_name": "Python 3",
      "language": "python",
      "name": "python3"
    },
    "language_info": {
      "codemirror_mode": {
        "name": "ipython",
        "version": 3
      },
      "file_extension": ".py",
      "mimetype": "text/x-python",
      "name": "python",
      "nbconvert_exporter": "python",
      "pygments_lexer": "ipython3",
      "version": "3.7.4"
    }
  },
  "cells": [
    {
      "cell_type": "code",
      "metadata": {
        "colab_type": "code",
        "id": "yx_grfQ0EkD3",
        "outputId": "c61ad39a-7263-4403-8dba-18f07919c383",
        "colab": {
          "base_uri": "https://localhost:8080/",
          "height": 34
        }
      },
      "source": [
        "from google.colab import drive\n",
        "drive.mount('/content/drive/')"
      ],
      "execution_count": 36,
      "outputs": [
        {
          "output_type": "stream",
          "text": [
            "Drive already mounted at /content/drive/; to attempt to forcibly remount, call drive.mount(\"/content/drive/\", force_remount=True).\n"
          ],
          "name": "stdout"
        }
      ]
    },
    {
      "cell_type": "code",
      "metadata": {
        "colab_type": "code",
        "id": "qs03ExeYE557",
        "outputId": "6c35f722-4809-4ca8-ae11-08a0eddee1bc",
        "colab": {
          "base_uri": "https://localhost:8080/",
          "height": 904
        }
      },
      "source": [
        "!pip install tensorflow keras numpy matplotlib pandas sklearn Bio"
      ],
      "execution_count": 37,
      "outputs": [
        {
          "output_type": "stream",
          "text": [
            "Requirement already satisfied: tensorflow in /usr/local/lib/python3.6/dist-packages (2.2.0)\n",
            "Requirement already satisfied: keras in /usr/local/lib/python3.6/dist-packages (2.3.1)\n",
            "Requirement already satisfied: numpy in /usr/local/lib/python3.6/dist-packages (1.18.4)\n",
            "Requirement already satisfied: matplotlib in /usr/local/lib/python3.6/dist-packages (3.2.1)\n",
            "Requirement already satisfied: pandas in /usr/local/lib/python3.6/dist-packages (1.0.4)\n",
            "Requirement already satisfied: sklearn in /usr/local/lib/python3.6/dist-packages (0.0)\n",
            "Requirement already satisfied: Bio in /usr/local/lib/python3.6/dist-packages (0.1.0)\n",
            "Requirement already satisfied: google-pasta>=0.1.8 in /usr/local/lib/python3.6/dist-packages (from tensorflow) (0.2.0)\n",
            "Requirement already satisfied: tensorboard<2.3.0,>=2.2.0 in /usr/local/lib/python3.6/dist-packages (from tensorflow) (2.2.2)\n",
            "Requirement already satisfied: gast==0.3.3 in /usr/local/lib/python3.6/dist-packages (from tensorflow) (0.3.3)\n",
            "Requirement already satisfied: grpcio>=1.8.6 in /usr/local/lib/python3.6/dist-packages (from tensorflow) (1.29.0)\n",
            "Requirement already satisfied: astunparse==1.6.3 in /usr/local/lib/python3.6/dist-packages (from tensorflow) (1.6.3)\n",
            "Requirement already satisfied: opt-einsum>=2.3.2 in /usr/local/lib/python3.6/dist-packages (from tensorflow) (3.2.1)\n",
            "Requirement already satisfied: keras-preprocessing>=1.1.0 in /usr/local/lib/python3.6/dist-packages (from tensorflow) (1.1.2)\n",
            "Requirement already satisfied: protobuf>=3.8.0 in /usr/local/lib/python3.6/dist-packages (from tensorflow) (3.10.0)\n",
            "Requirement already satisfied: termcolor>=1.1.0 in /usr/local/lib/python3.6/dist-packages (from tensorflow) (1.1.0)\n",
            "Requirement already satisfied: six>=1.12.0 in /usr/local/lib/python3.6/dist-packages (from tensorflow) (1.12.0)\n",
            "Requirement already satisfied: scipy==1.4.1; python_version >= \"3\" in /usr/local/lib/python3.6/dist-packages (from tensorflow) (1.4.1)\n",
            "Requirement already satisfied: absl-py>=0.7.0 in /usr/local/lib/python3.6/dist-packages (from tensorflow) (0.9.0)\n",
            "Requirement already satisfied: h5py<2.11.0,>=2.10.0 in /usr/local/lib/python3.6/dist-packages (from tensorflow) (2.10.0)\n",
            "Requirement already satisfied: tensorflow-estimator<2.3.0,>=2.2.0 in /usr/local/lib/python3.6/dist-packages (from tensorflow) (2.2.0)\n",
            "Requirement already satisfied: wrapt>=1.11.1 in /usr/local/lib/python3.6/dist-packages (from tensorflow) (1.12.1)\n",
            "Requirement already satisfied: wheel>=0.26; python_version >= \"3\" in /usr/local/lib/python3.6/dist-packages (from tensorflow) (0.34.2)\n",
            "Requirement already satisfied: pyyaml in /usr/local/lib/python3.6/dist-packages (from keras) (3.13)\n",
            "Requirement already satisfied: keras-applications>=1.0.6 in /usr/local/lib/python3.6/dist-packages (from keras) (1.0.8)\n",
            "Requirement already satisfied: kiwisolver>=1.0.1 in /usr/local/lib/python3.6/dist-packages (from matplotlib) (1.2.0)\n",
            "Requirement already satisfied: python-dateutil>=2.1 in /usr/local/lib/python3.6/dist-packages (from matplotlib) (2.8.1)\n",
            "Requirement already satisfied: pyparsing!=2.0.4,!=2.1.2,!=2.1.6,>=2.0.1 in /usr/local/lib/python3.6/dist-packages (from matplotlib) (2.4.7)\n",
            "Requirement already satisfied: cycler>=0.10 in /usr/local/lib/python3.6/dist-packages (from matplotlib) (0.10.0)\n",
            "Requirement already satisfied: pytz>=2017.2 in /usr/local/lib/python3.6/dist-packages (from pandas) (2018.9)\n",
            "Requirement already satisfied: scikit-learn in /usr/local/lib/python3.6/dist-packages (from sklearn) (0.22.2.post1)\n",
            "Requirement already satisfied: google-auth-oauthlib<0.5,>=0.4.1 in /usr/local/lib/python3.6/dist-packages (from tensorboard<2.3.0,>=2.2.0->tensorflow) (0.4.1)\n",
            "Requirement already satisfied: google-auth<2,>=1.6.3 in /usr/local/lib/python3.6/dist-packages (from tensorboard<2.3.0,>=2.2.0->tensorflow) (1.7.2)\n",
            "Requirement already satisfied: setuptools>=41.0.0 in /usr/local/lib/python3.6/dist-packages (from tensorboard<2.3.0,>=2.2.0->tensorflow) (47.1.1)\n",
            "Requirement already satisfied: markdown>=2.6.8 in /usr/local/lib/python3.6/dist-packages (from tensorboard<2.3.0,>=2.2.0->tensorflow) (3.2.2)\n",
            "Requirement already satisfied: requests<3,>=2.21.0 in /usr/local/lib/python3.6/dist-packages (from tensorboard<2.3.0,>=2.2.0->tensorflow) (2.23.0)\n",
            "Requirement already satisfied: tensorboard-plugin-wit>=1.6.0 in /usr/local/lib/python3.6/dist-packages (from tensorboard<2.3.0,>=2.2.0->tensorflow) (1.6.0.post3)\n",
            "Requirement already satisfied: werkzeug>=0.11.15 in /usr/local/lib/python3.6/dist-packages (from tensorboard<2.3.0,>=2.2.0->tensorflow) (1.0.1)\n",
            "Requirement already satisfied: joblib>=0.11 in /usr/local/lib/python3.6/dist-packages (from scikit-learn->sklearn) (0.15.1)\n",
            "Requirement already satisfied: requests-oauthlib>=0.7.0 in /usr/local/lib/python3.6/dist-packages (from google-auth-oauthlib<0.5,>=0.4.1->tensorboard<2.3.0,>=2.2.0->tensorflow) (1.3.0)\n",
            "Requirement already satisfied: rsa<4.1,>=3.1.4 in /usr/local/lib/python3.6/dist-packages (from google-auth<2,>=1.6.3->tensorboard<2.3.0,>=2.2.0->tensorflow) (4.0)\n",
            "Requirement already satisfied: cachetools<3.2,>=2.0.0 in /usr/local/lib/python3.6/dist-packages (from google-auth<2,>=1.6.3->tensorboard<2.3.0,>=2.2.0->tensorflow) (3.1.1)\n",
            "Requirement already satisfied: pyasn1-modules>=0.2.1 in /usr/local/lib/python3.6/dist-packages (from google-auth<2,>=1.6.3->tensorboard<2.3.0,>=2.2.0->tensorflow) (0.2.8)\n",
            "Requirement already satisfied: importlib-metadata; python_version < \"3.8\" in /usr/local/lib/python3.6/dist-packages (from markdown>=2.6.8->tensorboard<2.3.0,>=2.2.0->tensorflow) (1.6.0)\n",
            "Requirement already satisfied: idna<3,>=2.5 in /usr/local/lib/python3.6/dist-packages (from requests<3,>=2.21.0->tensorboard<2.3.0,>=2.2.0->tensorflow) (2.9)\n",
            "Requirement already satisfied: certifi>=2017.4.17 in /usr/local/lib/python3.6/dist-packages (from requests<3,>=2.21.0->tensorboard<2.3.0,>=2.2.0->tensorflow) (2020.4.5.1)\n",
            "Requirement already satisfied: chardet<4,>=3.0.2 in /usr/local/lib/python3.6/dist-packages (from requests<3,>=2.21.0->tensorboard<2.3.0,>=2.2.0->tensorflow) (3.0.4)\n",
            "Requirement already satisfied: urllib3!=1.25.0,!=1.25.1,<1.26,>=1.21.1 in /usr/local/lib/python3.6/dist-packages (from requests<3,>=2.21.0->tensorboard<2.3.0,>=2.2.0->tensorflow) (1.24.3)\n",
            "Requirement already satisfied: oauthlib>=3.0.0 in /usr/local/lib/python3.6/dist-packages (from requests-oauthlib>=0.7.0->google-auth-oauthlib<0.5,>=0.4.1->tensorboard<2.3.0,>=2.2.0->tensorflow) (3.1.0)\n",
            "Requirement already satisfied: pyasn1>=0.1.3 in /usr/local/lib/python3.6/dist-packages (from rsa<4.1,>=3.1.4->google-auth<2,>=1.6.3->tensorboard<2.3.0,>=2.2.0->tensorflow) (0.4.8)\n",
            "Requirement already satisfied: zipp>=0.5 in /usr/local/lib/python3.6/dist-packages (from importlib-metadata; python_version < \"3.8\"->markdown>=2.6.8->tensorboard<2.3.0,>=2.2.0->tensorflow) (3.1.0)\n"
          ],
          "name": "stdout"
        }
      ]
    },
    {
      "cell_type": "code",
      "metadata": {
        "colab_type": "code",
        "id": "__b7mmmEE_Hh",
        "colab": {}
      },
      "source": [
        "#import the libraries\n",
        "import pandas as pd\n",
        "import numpy as np\n",
        "from keras.models import Sequential\n",
        "from keras.layers import Dense, Activation, Dropout, Flatten, Conv2D, MaxPooling2D,AveragePooling2D\n",
        "from keras.datasets import mnist\n",
        "from keras.utils import to_categorical\n",
        "import matplotlib.pyplot as plt\n",
        "from sklearn.model_selection import train_test_split\n",
        "import re, ast\n",
        "import keras\n",
        "np.random.seed(1000)\n",
        "from keras.optimizers import SGD\n",
        "from keras.layers import BatchNormalization\n",
        "import tensorflow as tf\n",
        "from sklearn.metrics import auc\n"
      ],
      "execution_count": 0,
      "outputs": []
    },
    {
      "cell_type": "code",
      "metadata": {
        "id": "Lr-hQzyP_zV9",
        "colab_type": "code",
        "colab": {}
      },
      "source": [
        ""
      ],
      "execution_count": 0,
      "outputs": []
    },
    {
      "cell_type": "code",
      "metadata": {
        "id": "Sk8fT3RS7MIG",
        "colab_type": "code",
        "colab": {}
      },
      "source": [
        ""
      ],
      "execution_count": 0,
      "outputs": []
    },
    {
      "cell_type": "code",
      "metadata": {
        "id": "Kk29ZTPE8AdU",
        "colab_type": "code",
        "colab": {}
      },
      "source": [
        ""
      ],
      "execution_count": 0,
      "outputs": []
    },
    {
      "cell_type": "code",
      "metadata": {
        "colab_type": "code",
        "id": "BwVKnJbPFdJn",
        "outputId": "08a69dc1-62a0-4797-985f-d59b2918d087",
        "colab": {
          "base_uri": "https://localhost:8080/",
          "height": 329
        }
      },
      "source": [
        "\n",
        "df_train=pd.read_csv('/content/drive/My Drive/Glutarylation/train_Binary_Encoding.csv')\n",
        "target_count = df_train.Glutarylation.value_counts()\n",
        "print('Class 0:', target_count[0])\n",
        "print('Class 1:', target_count[1])\n",
        "print('Proportion:', round(target_count[0] / target_count[1], 2), ': 1')\n",
        "\n",
        "target_count.plot(kind='bar', title='Count (target)');"
      ],
      "execution_count": 39,
      "outputs": [
        {
          "output_type": "stream",
          "text": [
            "Class 0: 3498\n",
            "Class 1: 590\n",
            "Proportion: 5.93 : 1\n"
          ],
          "name": "stdout"
        },
        {
          "output_type": "display_data",
          "data": {
            "image/png": "[encoded data removed]",
            "text/plain": [
              "<Figure size 432x288 with 1 Axes>"
            ]
          },
          "metadata": {
            "tags": [],
            "needs_background": "light"
          }
        }
      ]
    },
    {
      "cell_type": "code",
      "metadata": {
        "colab_type": "code",
        "id": "CYFukArIFmGo",
        "outputId": "e5d97549-1e4f-416e-b236-14b27c871f6c",
        "colab": {
          "base_uri": "https://localhost:8080/",
          "height": 34
        }
      },
      "source": [
        "# Class count\n",
        "train_count_class_0, train_count_class_1 = df_train.Glutarylation.value_counts()\n",
        "\n",
        "# Divide by class\n",
        "train_class_0 = df_train[df_train.Glutarylation == 0]\n",
        "train_class_1 = df_train[df_train.Glutarylation == 1]\n",
        "print(len(train_class_0))"
      ],
      "execution_count": 40,
      "outputs": [
        {
          "output_type": "stream",
          "text": [
            "3498\n"
          ],
          "name": "stdout"
        }
      ]
    },
    {
      "cell_type": "code",
      "metadata": {
        "colab_type": "code",
        "id": "KIy9nlsGFo1x",
        "outputId": "b1d385be-6bd7-4634-c0ab-838f0c02040a",
        "colab": {
          "base_uri": "https://localhost:8080/",
          "height": 346
        }
      },
      "source": [
        "\n",
        "import pandas as pd\n",
        "train_class_1_over = train_class_1.sample(train_count_class_0, replace=True)\n",
        "df_train_over = pd.concat([train_class_0, train_class_1_over], axis=0)\n",
        "\n",
        "print('Random over-sampling:')\n",
        "print(df_train_over.Glutarylation.value_counts())\n",
        "\n",
        "df_train_over.Glutarylation.value_counts().plot(kind='bar', title='Count (target)');"
      ],
      "execution_count": 41,
      "outputs": [
        {
          "output_type": "stream",
          "text": [
            "Random over-sampling:\n",
            "1    3498\n",
            "0    3498\n",
            "Name: Glutarylation, dtype: int64\n"
          ],
          "name": "stdout"
        },
        {
          "output_type": "display_data",
          "data": {
            "image/png": "[encoded data removed]",
            "text/plain": [
              "<Figure size 432x288 with 1 Axes>"
            ]
          },
          "metadata": {
            "tags": [],
            "needs_background": "light"
          }
        }
      ]
    },
    {
      "cell_type": "code",
      "metadata": {
        "colab_type": "code",
        "id": "lhDN0fpeF2GX",
        "colab": {}
      },
      "source": [
        "X=df_train_over.Image_Array"
      ],
      "execution_count": 0,
      "outputs": []
    },
    {
      "cell_type": "code",
      "metadata": {
        "colab_type": "code",
        "id": "E5ZN27w9F5Xr",
        "outputId": "59812728-b657-4520-d1df-8a7487ec35b7",
        "colab": {
          "base_uri": "https://localhost:8080/",
          "height": 54
        }
      },
      "source": [
        "print(X[0])"
      ],
      "execution_count": 43,
      "outputs": [
        {
          "output_type": "stream",
          "text": [
            "[[0, 0, 0, 0, 0, 0, 0, 0, 0, 0, 0, 0, 0, 0, 0, 0, 0, 0, 0, 0, 1], [0, 0, 0, 0, 0, 0, 0, 0, 0, 0, 0, 0, 0, 0, 0, 0, 0, 0, 0, 0, 1], [0, 0, 0, 0, 0, 0, 0, 0, 0, 0, 0, 0, 0, 0, 0, 0, 0, 0, 0, 0, 1], [0, 0, 0, 0, 0, 0, 0, 0, 0, 0, 0, 0, 0, 0, 0, 0, 0, 0, 0, 0, 1], [0, 0, 0, 0, 0, 0, 0, 0, 0, 0, 0, 0, 0, 0, 0, 0, 0, 0, 0, 0, 1], [0, 0, 0, 0, 0, 0, 0, 0, 0, 0, 1, 0, 0, 0, 0, 0, 0, 0, 0, 0, 0], [0, 0, 0, 0, 0, 0, 0, 0, 0, 0, 0, 0, 0, 1, 0, 0, 0, 0, 0, 0, 0], [0, 0, 0, 0, 0, 0, 0, 0, 0, 0, 0, 0, 0, 0, 0, 1, 0, 0, 0, 0, 0], [0, 0, 0, 0, 0, 0, 0, 0, 0, 0, 0, 0, 0, 0, 0, 0, 0, 0, 1, 0, 0], [0, 0, 0, 0, 0, 0, 0, 0, 0, 0, 0, 0, 0, 0, 0, 1, 0, 0, 0, 0, 0], [0, 0, 0, 0, 0, 0, 0, 0, 0, 0, 0, 0, 0, 0, 1, 0, 0, 0, 0, 0, 0], [0, 0, 0, 0, 0, 0, 0, 0, 0, 0, 0, 0, 0, 0, 0, 0, 0, 1, 0, 0, 0], [0, 0, 0, 0, 0, 0, 0, 0, 0, 0, 0, 0, 0, 0, 0, 0, 0, 0, 0, 1, 0], [0, 0, 0, 0, 0, 0, 0, 0, 0, 0, 0, 0, 0, 0, 1, 0, 0, 0, 0, 0, 0], [0, 0, 0, 0, 0, 0, 0, 0, 0, 0, 0, 0, 0, 0, 0, 1, 0, 0, 0, 0, 0], [0, 0, 0, 0, 0, 0, 0, 0, 0, 1, 0, 0, 0, 0, 0, 0, 0, 0, 0, 0, 0], [1, 0, 0, 0, 0, 0, 0, 0, 0, 0, 0, 0, 0, 0, 0, 0, 0, 0, 0, 0, 0], [0, 0, 0, 0, 0, 0, 0, 0, 1, 0, 0, 0, 0, 0, 0, 0, 0, 0, 0, 0, 0], [0, 0, 0, 0, 0, 0, 0, 0, 1, 0, 0, 0, 0, 0, 0, 0, 0, 0, 0, 0, 0], [0, 0, 0, 0, 0, 1, 0, 0, 0, 0, 0, 0, 0, 0, 0, 0, 0, 0, 0, 0, 0], [0, 0, 0, 0, 0, 0, 1, 0, 0, 0, 0, 0, 0, 0, 0, 0, 0, 0, 0, 0, 0], [0, 0, 0, 0, 1, 0, 0, 0, 0, 0, 0, 0, 0, 0, 0, 0, 0, 0, 0, 0, 0], [0, 0, 0, 0, 0, 0, 0, 0, 0, 0, 0, 1, 0, 0, 0, 0, 0, 0, 0, 0, 0], [0, 0, 0, 0, 0, 0, 0, 0, 0, 0, 0, 0, 0, 0, 1, 0, 0, 0, 0, 0, 0], [0, 0, 0, 0, 0, 0, 0, 1, 0, 0, 0, 0, 0, 0, 0, 0, 0, 0, 0, 0, 0], [0, 0, 0, 0, 0, 0, 0, 0, 0, 0, 0, 0, 0, 0, 0, 1, 0, 0, 0, 0, 0], [0, 0, 0, 0, 0, 0, 1, 0, 0, 0, 0, 0, 0, 0, 0, 0, 0, 0, 0, 0, 0], [0, 0, 0, 0, 0, 1, 0, 0, 0, 0, 0, 0, 0, 0, 0, 0, 0, 0, 0, 0, 0], [0, 0, 0, 0, 0, 0, 0, 0, 0, 1, 0, 0, 0, 0, 0, 0, 0, 0, 0, 0, 0], [0, 0, 0, 0, 0, 0, 0, 0, 0, 0, 0, 0, 0, 1, 0, 0, 0, 0, 0, 0, 0], [0, 0, 0, 0, 0, 1, 0, 0, 0, 0, 0, 0, 0, 0, 0, 0, 0, 0, 0, 0, 0], [0, 0, 0, 0, 0, 0, 0, 0, 0, 0, 0, 0, 0, 0, 0, 0, 0, 1, 0, 0, 0], [0, 0, 0, 0, 0, 0, 0, 0, 0, 0, 0, 0, 0, 0, 0, 1, 0, 0, 0, 0, 0], [0, 0, 0, 0, 0, 0, 0, 0, 0, 0, 0, 0, 0, 0, 0, 1, 0, 0, 0, 0, 0], [0, 0, 0, 0, 0, 0, 0, 0, 0, 0, 0, 0, 0, 0, 0, 0, 0, 1, 0, 0, 0]]\n"
          ],
          "name": "stdout"
        }
      ]
    },
    {
      "cell_type": "code",
      "metadata": {
        "colab_type": "code",
        "id": "jG5elk0VGLqA",
        "colab": {}
      },
      "source": [
        "Y=df_train_over.Glutarylation"
      ],
      "execution_count": 0,
      "outputs": []
    },
    {
      "cell_type": "code",
      "metadata": {
        "colab_type": "code",
        "id": "ihwFh4-iGPqF",
        "outputId": "72dcd447-b6e1-4993-e080-c9f2b8abab99",
        "colab": {
          "base_uri": "https://localhost:8080/",
          "height": 34
        }
      },
      "source": [
        "print(Y[0])"
      ],
      "execution_count": 45,
      "outputs": [
        {
          "output_type": "stream",
          "text": [
            "0\n"
          ],
          "name": "stdout"
        }
      ]
    },
    {
      "cell_type": "code",
      "metadata": {
        "colab_type": "code",
        "id": "WbEDwzMpF818",
        "outputId": "9e8fd51f-de72-421b-b988-b4775ccd42a1",
        "colab": {
          "base_uri": "https://localhost:8080/",
          "height": 663
        }
      },
      "source": [
        "NP_list=[]\n",
        "y_train=np.array(Y)\n",
        "print(len(y_train))\n",
        "y1=np.array(Y)\n",
        "for i in X:\n",
        "    NP=np.array(ast.literal_eval(i))\n",
        "    NP_list.append(NP)\n",
        "print(len(NP_list[0]))\n",
        "X_train=np.array(NP_list)\n",
        "print(len(X_train))\n",
        "print(X_train[0])"
      ],
      "execution_count": 46,
      "outputs": [
        {
          "output_type": "stream",
          "text": [
            "6996\n",
            "35\n",
            "6996\n",
            "[[0 0 0 0 0 0 0 0 0 0 0 0 0 0 0 0 0 0 0 0 1]\n",
            " [0 0 0 0 0 0 0 0 0 0 0 0 0 0 0 0 0 0 0 0 1]\n",
            " [0 0 0 0 0 0 0 0 0 0 0 0 0 0 0 0 0 0 0 0 1]\n",
            " [0 0 0 0 0 0 0 0 0 0 0 0 0 0 0 0 0 0 0 0 1]\n",
            " [0 0 0 0 0 0 0 0 0 0 0 0 0 0 0 0 0 0 0 0 1]\n",
            " [0 0 0 0 0 0 0 0 0 0 1 0 0 0 0 0 0 0 0 0 0]\n",
            " [0 0 0 0 0 0 0 0 0 0 0 0 0 1 0 0 0 0 0 0 0]\n",
            " [0 0 0 0 0 0 0 0 0 0 0 0 0 0 0 1 0 0 0 0 0]\n",
            " [0 0 0 0 0 0 0 0 0 0 0 0 0 0 0 0 0 0 1 0 0]\n",
            " [0 0 0 0 0 0 0 0 0 0 0 0 0 0 0 1 0 0 0 0 0]\n",
            " [0 0 0 0 0 0 0 0 0 0 0 0 0 0 1 0 0 0 0 0 0]\n",
            " [0 0 0 0 0 0 0 0 0 0 0 0 0 0 0 0 0 1 0 0 0]\n",
            " [0 0 0 0 0 0 0 0 0 0 0 0 0 0 0 0 0 0 0 1 0]\n",
            " [0 0 0 0 0 0 0 0 0 0 0 0 0 0 1 0 0 0 0 0 0]\n",
            " [0 0 0 0 0 0 0 0 0 0 0 0 0 0 0 1 0 0 0 0 0]\n",
            " [0 0 0 0 0 0 0 0 0 1 0 0 0 0 0 0 0 0 0 0 0]\n",
            " [1 0 0 0 0 0 0 0 0 0 0 0 0 0 0 0 0 0 0 0 0]\n",
            " [0 0 0 0 0 0 0 0 1 0 0 0 0 0 0 0 0 0 0 0 0]\n",
            " [0 0 0 0 0 0 0 0 1 0 0 0 0 0 0 0 0 0 0 0 0]\n",
            " [0 0 0 0 0 1 0 0 0 0 0 0 0 0 0 0 0 0 0 0 0]\n",
            " [0 0 0 0 0 0 1 0 0 0 0 0 0 0 0 0 0 0 0 0 0]\n",
            " [0 0 0 0 1 0 0 0 0 0 0 0 0 0 0 0 0 0 0 0 0]\n",
            " [0 0 0 0 0 0 0 0 0 0 0 1 0 0 0 0 0 0 0 0 0]\n",
            " [0 0 0 0 0 0 0 0 0 0 0 0 0 0 1 0 0 0 0 0 0]\n",
            " [0 0 0 0 0 0 0 1 0 0 0 0 0 0 0 0 0 0 0 0 0]\n",
            " [0 0 0 0 0 0 0 0 0 0 0 0 0 0 0 1 0 0 0 0 0]\n",
            " [0 0 0 0 0 0 1 0 0 0 0 0 0 0 0 0 0 0 0 0 0]\n",
            " [0 0 0 0 0 1 0 0 0 0 0 0 0 0 0 0 0 0 0 0 0]\n",
            " [0 0 0 0 0 0 0 0 0 1 0 0 0 0 0 0 0 0 0 0 0]\n",
            " [0 0 0 0 0 0 0 0 0 0 0 0 0 1 0 0 0 0 0 0 0]\n",
            " [0 0 0 0 0 1 0 0 0 0 0 0 0 0 0 0 0 0 0 0 0]\n",
            " [0 0 0 0 0 0 0 0 0 0 0 0 0 0 0 0 0 1 0 0 0]\n",
            " [0 0 0 0 0 0 0 0 0 0 0 0 0 0 0 1 0 0 0 0 0]\n",
            " [0 0 0 0 0 0 0 0 0 0 0 0 0 0 0 1 0 0 0 0 0]\n",
            " [0 0 0 0 0 0 0 0 0 0 0 0 0 0 0 0 0 1 0 0 0]]\n"
          ],
          "name": "stdout"
        }
      ]
    },
    {
      "cell_type": "code",
      "metadata": {
        "colab_type": "code",
        "id": "CiIqGTTNGYaw",
        "outputId": "b8c61e85-9eae-4f86-aeee-7d1626b77c24",
        "colab": {
          "base_uri": "https://localhost:8080/",
          "height": 34
        }
      },
      "source": [
        "# #split data into train and test sets\n",
        "# X_train,X_val,y_train,y_val=train_test_split(image,level,validation_split=0.2,random_state=20)\n",
        "print(len(X_train))"
      ],
      "execution_count": 47,
      "outputs": [
        {
          "output_type": "stream",
          "text": [
            "6996\n"
          ],
          "name": "stdout"
        }
      ]
    },
    {
      "cell_type": "code",
      "metadata": {
        "colab_type": "code",
        "id": "U49q1dX2GcCq",
        "colab": {}
      },
      "source": [
        "#Reshape the data to fit the model\n",
        "x = X_train.reshape(6996,35,21,1)\n"
      ],
      "execution_count": 0,
      "outputs": []
    },
    {
      "cell_type": "code",
      "metadata": {
        "colab_type": "code",
        "id": "70_YDYhZGjoB",
        "outputId": "99e70149-57b5-4e79-bd0e-7fb95dd1c76d",
        "colab": {
          "base_uri": "https://localhost:8080/",
          "height": 827
        }
      },
      "source": [
        "from sklearn.model_selection import StratifiedKFold\n",
        "from sklearn.metrics import classification_report,confusion_matrix\n",
        "from sklearn.metrics import roc_curve\n",
        "from sklearn.metrics import roc_auc_score\n",
        "from keras.optimizers import Adam, SGD\n",
        "import math\n",
        "import numpy\n",
        "import tensorflow.compat.v1 as tf\n",
        "from sklearn.metrics import confusion_matrix \n",
        "from sklearn.metrics import accuracy_score \n",
        "from sklearn.metrics import classification_report \n",
        "\n",
        "# fix random seed for reproducibility\n",
        "seed = 7\n",
        "numpy.random.seed(seed)\n",
        "# define 10-fold cross validation test harness\n",
        "kfold = StratifiedKFold(n_splits=10, shuffle=True, random_state=seed)\n",
        "accu_lst = []\n",
        "sen_lst=[]\n",
        "pre_lst=[]\n",
        "acc_lst=[]\n",
        "mcc_lst=[]\n",
        "auc_lst=[]\n",
        "\n",
        "with tf.Session() as sess:\n",
        "\n",
        "  \n",
        "  for train, test in kfold.split(x, y1):\n",
        "\n",
        "      \n",
        "      df_test=pd.read_csv('/content/drive/My Drive/Glutarylation/test_Binary_Encoding.csv')\n",
        "      target_count = df_test.Glutarylation.value_counts()\n",
        "\n",
        "\n",
        "      # Class count\n",
        "      test_count_class_0, test_tcount_class_1 = df_test.Glutarylation.value_counts()\n",
        "\n",
        "      # Divide by class\n",
        "      test_class_0 = df_test[df_test.Glutarylation == 0]\n",
        "      test_class_1 = df_test[df_test.Glutarylation == 1]\n",
        "\n",
        "      test_class_1_over = test_class_1.sample(test_count_class_0, replace=True)\n",
        "      df_test_over = pd.concat([test_class_0, test_class_1_over], axis=0)\n",
        "\n",
        "      np_list=[]\n",
        "      x_over=df_test_over.Image_Array\n",
        "      y_over=df_test_over.Glutarylation\n",
        "      y_test=np.array(y_over)\n",
        "      for i in x_over:\n",
        "          npp=np.array(ast.literal_eval(i))\n",
        "          np_list.append(npp)\n",
        "      X_test=np.array(np_list)\n",
        "\n",
        "      x_test= X_test.reshape(856,35,21,1)\n",
        "\n",
        "      y = to_categorical(y1)\n",
        "      yy = to_categorical(y_test)\n",
        "      #Build the CNN model\n",
        "      model = Sequential()\n",
        "      # add model layers\n",
        "      # add model layers\n",
        "      model.add(Conv2D(128, kernel_size=3, activation='relu',padding=\"same\", input_shape=(35,21,1)))\n",
        "      model.add(Conv2D(128, kernel_size=3, activation='relu',padding=\"same\"))\n",
        "      model.add(Conv2D(128, kernel_size=3, activation='relu',padding=\"same\"))\n",
        "      model.add(Dropout(0.4))\n",
        "      model.add(AveragePooling2D(pool_size=(2,2)))\n",
        "      model.add(Dropout(0.4))\n",
        "\n",
        "      model.add(Conv2D(64, kernel_size=3, activation='relu',padding=\"same\"))\n",
        "      model.add(Conv2D(64, kernel_size=3, activation='relu',padding=\"same\"))\n",
        "      model.add(Conv2D(64, kernel_size=3, activation='relu',padding=\"same\"))\n",
        "      model.add(Dropout(0.4))\n",
        "      model.add(AveragePooling2D(pool_size=(2,2)))\n",
        "      model.add(Dropout(0.4))\n",
        "      model.add(Flatten())\n",
        "      model.add(Dense(units=256, activation='relu'))\n",
        "      model.add(Dense(units=256, activation='relu'))\n",
        "      model.add(Dense(units=2, activation='softmax'))\n",
        "      #Compile the model\n",
        "      opt = Adam(lr=1.0e-4)\n",
        "      model.compile(optimizer=opt, loss='categorical_crossentropy', metrics=['accuracy'])\n",
        "      # Fit the model\n",
        "      model.fit(x[train], y[train], validation_split=0.10, epochs=12, verbose=0)\n",
        "\n",
        "      # evaluate the model\n",
        "      predictions = model.predict(x[test])\n",
        "      y_pred=( np.argmax(predictions, axis=1))\n",
        "      #confution matrix generation\n",
        "      cm=np.array(confusion_matrix(y1[test],y_pred,labels=[0,1]))\n",
        "      confusion=pd.DataFrame(cm,index=['not_Glutarylation','Glutarylation'],\n",
        "                              columns=['predicted_not_Glutarylation','predicted_Glutarylation'])\n",
        "      \n",
        "      True_Positive=confusion.at['Glutarylation','predicted_Glutarylation']\n",
        "      False_Positive=confusion.at['not_Glutarylation','predicted_Glutarylation']\n",
        "      True_Negative=confusion.at['not_Glutarylation','predicted_not_Glutarylation']\n",
        "      False_Negative=confusion.at['Glutarylation','predicted_not_Glutarylation']\n",
        "      \n",
        "      #Accuracy==>>accuracy = (correctly predicted class / total testing class) × 100%\n",
        "      # accuracy_score(y_predict, y_test)\n",
        "\n",
        "      total_testing_class=True_Positive+True_Negative+False_Positive+False_Negative\n",
        "      correctly_predicted_class=True_Positive + True_Negative\n",
        "      accuracy = (correctly_predicted_class / total_testing_class) * 100\n",
        "      \n",
        "      # Precision = TP / TP + FP\n",
        "      precision = (True_Positive / (True_Positive + False_Positive))*100\n",
        "      \n",
        "      # Sensitivity = TP / TP + FN\n",
        "      sensitivity = (True_Positive / (True_Positive + False_Negative))*100\n",
        "\n",
        "      #ACC=TP+TN / TP+FP+TN+FN\n",
        "      acc = (True_Positive + True_Negative) /(True_Positive+True_Negative+False_Positive+False_Negative) *100\n",
        "      #MCC = TP*TN - FN*FP / sqrt((TP+FN)*(TN+FP)*(TP+FP)*(TN+FN))\n",
        "      mcc = ((True_Positive * True_Negative) - (False_Positive * False_Negative)) / math.sqrt((True_Positive + False_Negative) * (True_Negative + False_Positive)*(True_Positive + False_Positive)*(True_Negative + False_Negative)) *100\n",
        "      \n",
        "      lr_probs = model.predict_proba(x[test])\n",
        "      lr_probs = lr_probs[:, 1]\n",
        "      lr_auc = (roc_auc_score(y1[test], lr_probs))*100\n",
        "\n",
        "\n",
        "      print(\" Accuracy :%.2f%%   Precision :%.2f%%   Sensitivity :%.2f%%   ACC :%.2f%%   MCC :%.2f%%   AUC :%.2f%%\"% (accuracy,precision,sensitivity,acc,mcc,lr_auc))\n",
        "      accu_lst.append(accuracy)\n",
        "      sen_lst.append(sensitivity)\n",
        "      pre_lst.append(precision)\n",
        "      acc_lst.append(acc)\n",
        "      mcc_lst.append(mcc)\n",
        "      auc_lst.append(lr_auc)\n",
        "  print ('10 Fold cross-validation performance measurement :')\n",
        "  print(\"Accuracy    :%.2f%% (+/- %.2f%%)\" % (numpy.mean(accu_lst), numpy.std(accu_lst)))\n",
        "  print(\"Precision   :%.2f%% (+/- %.2f%%)\" % (numpy.mean(pre_lst), numpy.std(pre_lst)))\n",
        "  print(\"Sensitivity :%.2f%% (+/- %.2f%%)\" % (numpy.mean(sen_lst), numpy.std(sen_lst)))\n",
        "  print(\"MCC         :%.2f%% (+/- %.2f%%)\" % (numpy.mean(mcc_lst), numpy.std(mcc_lst)))\n",
        "  print(\"AUC         :%.2f%% (+/- %.2f%%)\" % (numpy.mean(auc_lst), numpy.std(auc_lst)))\n",
        "  \n",
        "  \n",
        "  \n",
        "  #independent_test\n",
        "\n",
        "      \n",
        "  test_prediction = model.predict(x_test)\n",
        "  yy_pred=( np.argmax(test_prediction,axis=1))\n",
        "\n",
        "  results = confusion_matrix(y_test,yy_pred) \n",
        "  print ('Independent test set performance measurement :')\n",
        "  print ('Confusion Matrix :')\n",
        "  print(results) \n",
        "  print ('Accuracy Score :',accuracy_score(y_test,yy_pred))\n",
        "  print ('Report : ')\n",
        "  print (classification_report(y_test,yy_pred))\n",
        "\n",
        "  test_lr_probs = model.predict_proba(x_test)\n",
        "  test_lr_probs = test_lr_probs[:, 1]\n",
        "  test_lr_auc = (roc_auc_score(y_test, test_lr_probs))*100\n",
        "  print(\"AUC :%.2f%%\"%(test_lr_auc))\n",
        "\n",
        "\n",
        "\n",
        "\n",
        "\n",
        "from matplotlib import pyplot\n",
        "# calculate roc curves\n",
        "fpr, tpr, _ = roc_curve(y1[test], lr_probs)\n",
        "test_fpr, test_tpr, _ = roc_curve(y_test, test_lr_probs)\n",
        "\n",
        "# plot the roc curve for the model\n",
        "# axis labels\n",
        "pyplot.xlabel('False Positive Rate')\n",
        "pyplot.ylabel('True Positive Rate')\n",
        "pyplot.plot(fpr,tpr,label=\"10-fold cross-validation(AUC)=\"+str(numpy.mean(auc_lst)))\n",
        "pyplot.plot(test_fpr,test_tpr,label=\"Independent test(AUC)=\"+str(test_lr_auc))\n",
        "# show the legend\n",
        "pyplot.plot([0, 1], [0, 1],'r--')\n",
        "pyplot.xlim([0, 1])\n",
        "pyplot.ylim([0, 1])\n",
        "pyplot.legend()\n",
        "# show the plot\n",
        "pyplot.show()\n",
        "  \n"
      ],
      "execution_count": 49,
      "outputs": [
        {
          "output_type": "stream",
          "text": [
            " Accuracy :79.29%   Precision :79.88%   Sensitivity :78.29%   ACC :79.29%   MCC :58.58%   AUC :85.98%\n",
            " Accuracy :76.14%   Precision :76.99%   Sensitivity :74.57%   ACC :76.14%   MCC :52.31%   AUC :84.34%\n",
            " Accuracy :74.29%   Precision :72.49%   Sensitivity :78.29%   ACC :74.29%   MCC :48.73%   AUC :82.79%\n",
            " Accuracy :75.57%   Precision :70.20%   Sensitivity :88.86%   ACC :75.57%   MCC :53.05%   AUC :84.01%\n",
            " Accuracy :73.00%   Precision :80.38%   Sensitivity :60.86%   ACC :73.00%   MCC :47.42%   AUC :84.76%\n",
            " Accuracy :71.29%   Precision :67.29%   Sensitivity :82.86%   ACC :71.29%   MCC :43.76%   AUC :79.08%\n",
            " Accuracy :73.53%   Precision :68.64%   Sensitivity :86.53%   ACC :73.53%   MCC :48.77%   AUC :83.06%\n",
            " Accuracy :69.10%   Precision :62.76%   Sensitivity :93.70%   ACC :69.10%   MCC :43.92%   AUC :79.84%\n",
            " Accuracy :77.97%   Precision :72.07%   Sensitivity :91.43%   ACC :77.97%   MCC :58.06%   AUC :88.24%\n",
            " Accuracy :79.83%   Precision :75.06%   Sensitivity :89.43%   ACC :79.83%   MCC :60.77%   AUC :87.71%\n",
            "10 Fold cross-validation performance measurement :\n",
            "Accuracy    :75.00% (+/- 3.28%)\n",
            "Precision   :72.58% (+/- 5.34%)\n",
            "Sensitivity :82.48% (+/- 9.36%)\n",
            "MCC         :51.54% (+/- 5.76%)\n",
            "AUC         :83.98% (+/- 2.83%)\n",
            "Independent test set performance measurement :\n",
            "Confusion Matrix :\n",
            "[[281 147]\n",
            " [107 321]]\n",
            "Accuracy Score : 0.7032710280373832\n",
            "Report : \n",
            "              precision    recall  f1-score   support\n",
            "\n",
            "           0       0.72      0.66      0.69       428\n",
            "           1       0.69      0.75      0.72       428\n",
            "\n",
            "    accuracy                           0.70       856\n",
            "   macro avg       0.71      0.70      0.70       856\n",
            "weighted avg       0.71      0.70      0.70       856\n",
            "\n",
            "AUC :76.16%\n"
          ],
          "name": "stdout"
        },
        {
          "output_type": "display_data",
          "data": {
            "image/png": "[encoded data removed]",
            "text/plain": [
              "<Figure size 432x288 with 1 Axes>"
            ]
          },
          "metadata": {
            "tags": [],
            "needs_background": "light"
          }
        }
      ]
    },
    {
      "cell_type": "markdown",
      "metadata": {
        "id": "hVgWtmJDOPUu",
        "colab_type": "text"
      },
      "source": [
        ""
      ]
    },
    {
      "cell_type": "code",
      "metadata": {
        "id": "PhjYKfjwBC_g",
        "colab_type": "code",
        "colab": {}
      },
      "source": [
        ""
      ],
      "execution_count": 0,
      "outputs": []
    },
    {
      "cell_type": "code",
      "metadata": {
        "id": "YNtN4wf9BVaC",
        "colab_type": "code",
        "colab": {}
      },
      "source": [
        ""
      ],
      "execution_count": 0,
      "outputs": []
    }
  ]
}